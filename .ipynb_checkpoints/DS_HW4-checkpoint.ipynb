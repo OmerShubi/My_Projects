{
 "cells": [
  {
   "cell_type": "markdown",
   "metadata": {},
   "source": [
    "Imports"
   ]
  },
  {
   "cell_type": "code",
   "execution_count": 16,
   "metadata": {
    "slideshow": {
     "slide_type": "-"
    }
   },
   "outputs": [],
   "source": [
    "from Data import Data\n",
    "from AlgorithmRunner import AlgorithmRunner\n",
    "from sklearn import metrics"
   ]
  },
  {
   "cell_type": "markdown",
   "metadata": {},
   "source": [
    "Original file path"
   ]
  },
  {
   "cell_type": "code",
   "execution_count": 17,
   "metadata": {},
   "outputs": [],
   "source": [
    "    file_name = './movie_metadata.csv'"
   ]
  },
  {
   "cell_type": "markdown",
   "metadata": {},
   "source": [
    "Initialize classes"
   ]
  },
  {
   "cell_type": "code",
   "execution_count": 22,
   "metadata": {},
   "outputs": [
    {
     "name": "stdout",
     "output_type": "stream",
     "text": [
      "388 ms ± 25.7 ms per loop (mean ± std. dev. of 7 runs, 1 loop each)\n"
     ]
    }
   ],
   "source": [
    "    data = Data(file_name)\n",
    "    %timeit data.preprocess()\n",
    "    kf = data.splitToFiveFolds()\n",
    "    classifierKNN = AlgorithmRunner('KNN')\n",
    "    classifierRocchio = AlgorithmRunner('Rocchio')"
   ]
  },
  {
   "cell_type": "markdown",
   "metadata": {},
   "source": [
    "Initialize metric containers"
   ]
  },
  {
   "cell_type": "code",
   "execution_count": 19,
   "metadata": {},
   "outputs": [],
   "source": [
    "    fold = 0\n",
    "    KNN_precision = 0\n",
    "    KNN_recall = 0\n",
    "    KNN_accuracy = 0\n",
    "    Rocchio_precision = 0\n",
    "    Rocchio_recall = 0\n",
    "    Rocchio_accuracy = 0"
   ]
  },
  {
   "cell_type": "markdown",
   "metadata": {},
   "source": [
    "Run both classifiers 5 times"
   ]
  },
  {
   "cell_type": "code",
   "execution_count": 20,
   "metadata": {},
   "outputs": [],
   "source": [
    "for train_index, test_index in kf.split(data.X):\n",
    "        fold = fold + 1\n",
    "        X_train, X_test = data.X[train_index], data.X[test_index]\n",
    "        y_train, y_test = data.y[train_index], data.y[test_index]\n",
    "        classifierKNN.fit(X_train, y_train)\n",
    "        predictedKNN = classifierKNN.predict(X_test)\n",
    "        classifierRocchio.fit(X_train, y_train)\n",
    "        predictedRocchio = classifierRocchio.predict(X_test)\n",
    "        expected = y_test\n",
    "        # print(\"-------------   Fold\", fold, \"  --------------------\")\n",
    "        # print(\"Classification report for KNN classifier \\n%s\\n\"\n",
    "        #       % (metrics.classification_report(expected, predictedKNN)))\n",
    "        #\n",
    "        # print(\"Classification report for Rocchio classifier \\n%s\\n\"\n",
    "        #       % (metrics.classification_report(expected, predictedRocchio)))\n",
    "\n",
    "        KNN_accuracy += metrics.accuracy_score(expected, predictedKNN)\n",
    "        Rocchio_accuracy += metrics.accuracy_score(expected, predictedRocchio)\n",
    "\n",
    "        KNN_precision += metrics.precision_score(expected, predictedKNN, average='binary')\n",
    "        Rocchio_precision += metrics.precision_score(expected, predictedRocchio, average='binary')\n",
    "\n",
    "        KNN_recall += metrics.recall_score(expected, predictedKNN, average='binary')\n",
    "        Rocchio_recall += metrics.recall_score(expected, predictedRocchio, average='binary')        "
   ]
  },
  {
   "cell_type": "markdown",
   "metadata": {},
   "source": [
    "Results"
   ]
  },
  {
   "cell_type": "code",
   "execution_count": 21,
   "metadata": {},
   "outputs": [
    {
     "name": "stdout",
     "output_type": "stream",
     "text": [
      "Question 1:\n",
      "KNN classifier 0.82, 0.45, 0.77\n",
      "Rocchio classifier: 0.70, 0.58, 0.72\n"
     ]
    }
   ],
   "source": [
    "    print(\"Question 1:\")\n",
    "    print(\"KNN classifier {:.2f}, {:.2f}, {:.2f}\".format(KNN_precision/5, KNN_recall/5, KNN_accuracy/5))\n",
    "    print(\"Rocchio classifier: {:.2f}, {:.2f}, {:.2f}\".format(Rocchio_precision/5, Rocchio_recall/5, Rocchio_accuracy/5))"
   ]
  },
  {
   "cell_type": "code",
   "execution_count": null,
   "metadata": {},
   "outputs": [],
   "source": []
  }
 ],
 "metadata": {
  "kernelspec": {
   "display_name": "Python 3",
   "language": "python",
   "name": "python3"
  },
  "language_info": {
   "codemirror_mode": {
    "name": "ipython",
    "version": 3
   },
   "file_extension": ".py",
   "mimetype": "text/x-python",
   "name": "python",
   "nbconvert_exporter": "python",
   "pygments_lexer": "ipython3",
   "version": "3.7.3"
  }
 },
 "nbformat": 4,
 "nbformat_minor": 2
}
